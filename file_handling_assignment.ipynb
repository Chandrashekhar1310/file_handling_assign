{
 "cells": [
  {
   "cell_type": "markdown",
   "id": "c40ab602-3e7e-49e2-9a5d-23bc0897aa3f",
   "metadata": {},
   "source": [
    "# Q1. Which function is used to open a file? What are the different modes of opening a file? Explain each mode of file opening."
   ]
  },
  {
   "cell_type": "markdown",
   "id": "7e059f3b-72c1-405e-919b-7aad27e5b1cf",
   "metadata": {},
   "source": [
    "In Python, the open() function is used to open a file.\n",
    "\n",
    "Syntax: open(file_path, mode)\n",
    "\n",
    "The different modes of opening a file are:\n",
    "\n",
    "1. r mode (read-only): This is the default mode. It is used to open a file for reading. If the file does not exist, it will raise an error.\n",
    "2. w mode (write-only): It is used to open a file for writing. If the file already exists, it will be truncated. If the file does not exist, a new file will be created.\n",
    "3. a mode (append-only): It is used to open a file for appending new data to the end of the file. If the file does not exist, a new file will be created.\n",
    "4. x mode (exclusive creation): It is used to open a file for exclusive creation. If the file already exists, an error will be raised.\n",
    "5. b mode (binary mode): It is used to open a file in binary mode.\n",
    "6. t mode (text mode): It is used to open a file in text mode. This is the default mode."
   ]
  },
  {
   "cell_type": "markdown",
   "id": "7c2f9224-eea1-414b-b509-d444ea209174",
   "metadata": {},
   "source": [
    "# Q2. Why close() function is used? Why is it important to close a file?"
   ]
  },
  {
   "cell_type": "markdown",
   "id": "e1302a8e-8dd0-45d0-906d-ad70beb7a5d6",
   "metadata": {},
   "source": [
    "he close() function is used to close an open file in Python. It is important to close a file after performing read or write operations on it because it ensures that any changes made to the file are written to the disk, and also frees up the system resources associated with the open file.\n",
    "\n",
    "When a file is opened, it occupies some system resources like memory and file descriptors. If a file is not closed properly, it can lead to issues like memory leaks and file descriptor leaks, which can cause the system to slow down or even crash if a large number of files are left open."
   ]
  },
  {
   "cell_type": "markdown",
   "id": "e6941970-d452-4cd8-8643-3ac4c6030bee",
   "metadata": {},
   "source": [
    "# Q3. Write a python program to create a text file. Write ‘I want to become a Data Scientist’ in that file. Then\n",
    "# close the file. Open this file and read the content of the file."
   ]
  },
  {
   "cell_type": "code",
   "execution_count": 15,
   "id": "111c82ed-ea5a-42b1-9f26-c224f0cf7c46",
   "metadata": {},
   "outputs": [],
   "source": [
    "with open('text.txt' , 'w') as f:\n",
    "    f.write('I want to become a Data Scientist')\n",
    "    \n",
    "    "
   ]
  },
  {
   "cell_type": "code",
   "execution_count": 16,
   "id": "5fb98f5a-6bb4-413c-bfb1-69148cbeae94",
   "metadata": {},
   "outputs": [
    {
     "data": {
      "text/plain": [
       "'I want to become a Data Scientist'"
      ]
     },
     "execution_count": 16,
     "metadata": {},
     "output_type": "execute_result"
    }
   ],
   "source": [
    "with open('text.txt' , 'r') as f:\n",
    "    file = f.read()\n",
    "file"
   ]
  },
  {
   "cell_type": "markdown",
   "id": "f3fd6e4a-4dd0-4ef6-9807-51f079649b04",
   "metadata": {},
   "source": [
    "# Q4. Explain the following with python code: read(), readline() and readlines()."
   ]
  },
  {
   "cell_type": "markdown",
   "id": "8f5cc28b-27ca-4c4b-bbb5-e75b68c86294",
   "metadata": {},
   "source": [
    "In Python, there are three ways to read data from a file: read(), readline(), and readlines().\n",
    "\n",
    "1. read():\n",
    "   The read() method reads the entire contents of a file and returns it as a string. It takes an optional argument that specifies the number of bytes to read from the file."
   ]
  },
  {
   "cell_type": "code",
   "execution_count": 17,
   "id": "739818ed-c67d-4a34-8b72-8180cd701705",
   "metadata": {},
   "outputs": [
    {
     "data": {
      "text/plain": [
       "'I want to become a Data Scientist'"
      ]
     },
     "execution_count": 17,
     "metadata": {},
     "output_type": "execute_result"
    }
   ],
   "source": [
    "with open('text.txt' , 'r') as f:\n",
    "    file = f.read()\n",
    "    \n",
    "file"
   ]
  },
  {
   "cell_type": "markdown",
   "id": "68bd93d0-f14a-46b7-baaa-6baad410ed56",
   "metadata": {},
   "source": [
    "2. readline(): \n",
    "   The readline() method reads a single line from a file and returns it as a string. It takes an optional argument that specifies the maximum number of characters to read from the line. If no argument is    provided, it will read the entire line."
   ]
  },
  {
   "cell_type": "code",
   "execution_count": 18,
   "id": "5edb4e64-c4cc-4c9f-b2fd-84cee91b9010",
   "metadata": {},
   "outputs": [],
   "source": [
    "with open('text1.txt' , 'w') as f:\n",
    "    f.write(\"Data Science Masters course is highly curated and uniquely designed according to the latest industry standards. This program instills students the skills essential to knowledge discovery efforts to identify standard, novel, and truly differentiated solutions and decision-making, including skills in managing, querying, analyzing, visualizing, and extracting meaning from extremely large data sets. This trending program provides students with the statistical, mathematical and computational skills needed to meet the large-scale data science challenges of today's professional world. You will learn all the stack required to work in data science industry including cloud infrastructure and real-time industry projects. This course will be taught in Hindi language.\")\n",
    "    \n",
    "    f.close()"
   ]
  },
  {
   "cell_type": "code",
   "execution_count": 19,
   "id": "646f44c2-6ae6-4e37-889b-aaa89728d738",
   "metadata": {},
   "outputs": [
    {
     "data": {
      "text/plain": [
       "\"Data Science Masters course is highly curated and uniquely designed according to the latest industry standards. This program instills students the skills essential to knowledge discovery efforts to identify standard, novel, and truly differentiated solutions and decision-making, including skills in managing, querying, analyzing, visualizing, and extracting meaning from extremely large data sets. This trending program provides students with the statistical, mathematical and computational skills needed to meet the large-scale data science challenges of today's professional world. You will learn all the stack required to work in data science industry including cloud infrastructure and real-time industry projects. This course will be taught in Hindi language.\""
      ]
     },
     "execution_count": 19,
     "metadata": {},
     "output_type": "execute_result"
    }
   ],
   "source": [
    "with open('text1.txt' , 'r') as f:\n",
    "    file = f.readline()\n",
    "    \n",
    "file"
   ]
  },
  {
   "cell_type": "markdown",
   "id": "6be5964e-ab4b-4c28-956c-7285efa55bdd",
   "metadata": {},
   "source": [
    "3. readlines():\n",
    "   The readlines() method reads all the lines from a file and returns them as a list of strings. Each line is a separate element in the list. It takes no arguments."
   ]
  },
  {
   "cell_type": "code",
   "execution_count": 20,
   "id": "09415f51-8ea6-4659-980a-c658c9d3db46",
   "metadata": {},
   "outputs": [],
   "source": [
    "with open('text1.txt' , 'w') as f:\n",
    "    f.write(\"Data Science Masters course is highly curated and uniquely designed according to the latest industry standards. This program instills students the skills essential to knowledge discovery efforts to identify standard, novel, and truly differentiated solutions and decision-making, including skills in managing, querying, analyzing, visualizing, and extracting meaning from extremely large data sets. This trending program provides students with the statistical, mathematical and computational skills needed to meet the large-scale data science challenges of today's professional world. You will learn all the stack required to work in data science industry including cloud infrastructure and real-time industry projects. This course will be taught in Hindi language.\")\n",
    "    \n",
    "    f.close()"
   ]
  },
  {
   "cell_type": "code",
   "execution_count": 21,
   "id": "edd267a5-f71f-4ac6-a04e-525cf15f0bbe",
   "metadata": {},
   "outputs": [
    {
     "data": {
      "text/plain": [
       "[\"Data Science Masters course is highly curated and uniquely designed according to the latest industry standards. This program instills students the skills essential to knowledge discovery efforts to identify standard, novel, and truly differentiated solutions and decision-making, including skills in managing, querying, analyzing, visualizing, and extracting meaning from extremely large data sets. This trending program provides students with the statistical, mathematical and computational skills needed to meet the large-scale data science challenges of today's professional world. You will learn all the stack required to work in data science industry including cloud infrastructure and real-time industry projects. This course will be taught in Hindi language.\"]"
      ]
     },
     "execution_count": 21,
     "metadata": {},
     "output_type": "execute_result"
    }
   ],
   "source": [
    "with open('text1.txt' , 'r') as f:\n",
    "    file = f.readlines()\n",
    "    f.close()\n",
    "file"
   ]
  },
  {
   "cell_type": "markdown",
   "id": "6dc08e7e-e1d6-4804-897b-971f5bc41cba",
   "metadata": {},
   "source": [
    "# Q5. Explain why with statement is used with open(). What is the advantage of using with statement and\n",
    "# open() together?"
   ]
  },
  {
   "cell_type": "markdown",
   "id": "03c65f1c-ccbd-4c2b-a3bc-90aeab3a5100",
   "metadata": {},
   "source": [
    "The with statement is used with open() function in Python to automatically close a file after it is opened and its operations are completed. The advantage of using the with statement and open() function together is that it automatically takes care of closing the file after the operations are completed, even if an exception is raised during the operations. This ensures that the file is always closed properly, and that any changes made to the file are written to the disk.\n",
    "\n",
    "Without using the with statement, we would have to manually close the file using the close() method, which can be tedious and error-prone, especially when dealing with multiple files."
   ]
  },
  {
   "cell_type": "markdown",
   "id": "be20ac08-2d44-438e-822f-f8f867051336",
   "metadata": {},
   "source": [
    "# Q6. Explain the write() and writelines() functions. Give a suitable example."
   ]
  },
  {
   "cell_type": "markdown",
   "id": "86c4f1ec-aa7e-4095-af29-5ce553252b37",
   "metadata": {},
   "source": [
    "The write() and writelines() functions are used to write data to a file in Python.\n",
    "\n",
    "write() function:\n",
    "The write() function writes a string to a file. It takes a string as an argument and returns the number of characters written to the file."
   ]
  },
  {
   "cell_type": "code",
   "execution_count": 23,
   "id": "5f13a39e-ae17-4a55-a52e-a6ae518b28dd",
   "metadata": {},
   "outputs": [],
   "source": [
    "# opening a file in write mode\n",
    "file = open(\"write.txt\", \"w\")\n",
    "\n",
    "# writing data to the file\n",
    "file.write(\"Hello, world!\\n\")\n",
    "\n",
    "# closing the file\n",
    "file.close()\n"
   ]
  },
  {
   "cell_type": "markdown",
   "id": "94f8953a-afd1-4e5c-8c28-b884fb8470fb",
   "metadata": {},
   "source": [
    "writelines() function:\n",
    "The writelines() function writes a list of strings to a file. Each string in the list represents a line in the file. It takes a list of strings as an argument and returns nothing."
   ]
  },
  {
   "cell_type": "code",
   "execution_count": 24,
   "id": "df01a135-8727-4ed5-888d-9b5b0cc945ad",
   "metadata": {},
   "outputs": [],
   "source": [
    "# opening a file in write mode\n",
    "file = open(\"example.txt\", \"w\")\n",
    "\n",
    "# writing data to the file\n",
    "lines = [\"This is the first line\\n\", \"This is the second line\\n\", \"This is the third line\\n\"]\n",
    "file.writelines(lines)\n",
    "\n",
    "# closing the file\n",
    "file.close()\n"
   ]
  },
  {
   "cell_type": "code",
   "execution_count": null,
   "id": "898b85be-e968-45df-8fc0-3c14160fd8e5",
   "metadata": {},
   "outputs": [],
   "source": []
  }
 ],
 "metadata": {
  "kernelspec": {
   "display_name": "Python 3 (ipykernel)",
   "language": "python",
   "name": "python3"
  },
  "language_info": {
   "codemirror_mode": {
    "name": "ipython",
    "version": 3
   },
   "file_extension": ".py",
   "mimetype": "text/x-python",
   "name": "python",
   "nbconvert_exporter": "python",
   "pygments_lexer": "ipython3",
   "version": "3.10.8"
  }
 },
 "nbformat": 4,
 "nbformat_minor": 5
}
